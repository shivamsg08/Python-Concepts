{
 "cells": [
  {
   "cell_type": "markdown",
   "id": "974dbeba",
   "metadata": {},
   "source": [
    "Title : \" Python Basics\"\n",
    "@ Author : Shivam Goyal\n",
    "\n",
    "Date : 9 January, 2022\n",
    "\n",
    "Version 1"
   ]
  },
  {
   "cell_type": "markdown",
   "id": "489a12ab",
   "metadata": {},
   "source": [
    "### 1. Installing Python Packages"
   ]
  },
  {
   "cell_type": "code",
   "execution_count": null,
   "id": "c0737e55",
   "metadata": {},
   "outputs": [],
   "source": [
    "# %pip install tqdm"
   ]
  },
  {
   "cell_type": "code",
   "execution_count": null,
   "id": "6c7c81b3",
   "metadata": {},
   "outputs": [],
   "source": [
    "print(\"My name is Shivam\")"
   ]
  },
  {
   "cell_type": "code",
   "execution_count": null,
   "id": "02372e9e",
   "metadata": {},
   "outputs": [],
   "source": [
    "import math as mt\n",
    "mt.pi * (3**2)"
   ]
  },
  {
   "cell_type": "markdown",
   "id": "f472fe7e",
   "metadata": {},
   "source": [
    "### 2. Operators in Python"
   ]
  },
  {
   "cell_type": "code",
   "execution_count": null,
   "id": "1a7e5b03",
   "metadata": {},
   "outputs": [],
   "source": [
    "# Addition and subtraction\n",
    "print(5 + 5)\n",
    "print(5 - 5)\n",
    "\n",
    "# Multiplication and division\n",
    "print(3 * 5)\n",
    "print(10 / 2)\n",
    "\n",
    "# Exponentiation\n",
    "print(4 ** 2)\n",
    "\n",
    "# Modulus\n",
    "print(5%2)\n"
   ]
  },
  {
   "cell_type": "markdown",
   "id": "9081b3fb",
   "metadata": {},
   "source": [
    "### 3. Variable in Python"
   ]
  },
  {
   "cell_type": "markdown",
   "id": "765af2a1",
   "metadata": {},
   "source": [
    "#### 1.Variable Types"
   ]
  },
  {
   "cell_type": "markdown",
   "id": "8f118001",
   "metadata": {},
   "source": [
    "1. Numerical: int, float\n",
    "\n",
    "2. Non Numerical : String , Boolean or logical"
   ]
  },
  {
   "cell_type": "code",
   "execution_count": null,
   "id": "3df29a55",
   "metadata": {},
   "outputs": [],
   "source": [
    "## Calculation with variables\n",
    "\n",
    "x = 5\n",
    "y=\"Python\"\n",
    "\n",
    "print(x)\n",
    "print(x**2)\n",
    "\n",
    "print(y)"
   ]
  },
  {
   "cell_type": "markdown",
   "id": "bd1b635f",
   "metadata": {},
   "source": [
    "##### 2. Finding the data type"
   ]
  },
  {
   "cell_type": "code",
   "execution_count": null,
   "id": "642520e9",
   "metadata": {
    "scrolled": true
   },
   "outputs": [],
   "source": [
    "type(x), type(y)"
   ]
  },
  {
   "cell_type": "code",
   "execution_count": null,
   "id": "9ff2324e",
   "metadata": {},
   "outputs": [],
   "source": [
    "# help()"
   ]
  },
  {
   "cell_type": "markdown",
   "id": "c1ff96ef",
   "metadata": {},
   "source": [
    "#### 3. Explore operations of data types"
   ]
  },
  {
   "cell_type": "code",
   "execution_count": 13,
   "id": "c5fd4d23",
   "metadata": {},
   "outputs": [],
   "source": [
    "a= 3 \n",
    "b= 4.5\n",
    "c=\"Python\" \n",
    "d= True\n",
    "e = False"
   ]
  },
  {
   "cell_type": "code",
   "execution_count": null,
   "id": "69d220b0",
   "metadata": {},
   "outputs": [],
   "source": [
    "print(a*b)\n",
    "# print(a+c)  # Cannot add a string to a int or float\n",
    "print(c + \" \" + c)\n",
    "print(d + e)\n",
    "# print (c + d) # Invalid\n",
    "\n",
    "print(c * a) ## Only case where a string and a number give result "
   ]
  },
  {
   "cell_type": "markdown",
   "id": "35c6099f",
   "metadata": {},
   "source": [
    "#### 4. Data type conversion"
   ]
  },
  {
   "cell_type": "code",
   "execution_count": null,
   "id": "1f26bc67",
   "metadata": {},
   "outputs": [],
   "source": [
    "str()\n",
    "int()\n",
    "float()\n",
    "\n",
    "print(type(str(x)))\n",
    "\n",
    "# {} .format()\n",
    "\n",
    "a = int(input(\"this is my var a \"))"
   ]
  },
  {
   "cell_type": "code",
   "execution_count": null,
   "id": "8f66db5d",
   "metadata": {},
   "outputs": [],
   "source": [
    "a = input(\"Current Year\")"
   ]
  },
  {
   "cell_type": "markdown",
   "id": "88e256e3",
   "metadata": {},
   "source": [
    "### 4. Lists in Python"
   ]
  },
  {
   "cell_type": "markdown",
   "id": "62daa8e6",
   "metadata": {},
   "source": [
    "As opposed to int, bool etc., a list is a compound data type."
   ]
  },
  {
   "cell_type": "markdown",
   "id": "ce944d32",
   "metadata": {},
   "source": [
    "#### Creating a list"
   ]
  },
  {
   "cell_type": "code",
   "execution_count": 35,
   "id": "6be0cd56",
   "metadata": {},
   "outputs": [
    {
     "data": {
      "text/plain": [
       "[True, 'list', '2', 'nice']"
      ]
     },
     "execution_count": 35,
     "metadata": {},
     "output_type": "execute_result"
    }
   ],
   "source": [
    "a = \"2\"\n",
    "b = \"nice\"\n",
    "my_list = [True, \"list\", a, b]\n",
    "my_list"
   ]
  },
  {
   "cell_type": "code",
   "execution_count": 30,
   "id": "575dd25b",
   "metadata": {},
   "outputs": [
    {
     "data": {
      "text/plain": [
       "'nice'"
      ]
     },
     "execution_count": 30,
     "metadata": {},
     "output_type": "execute_result"
    }
   ],
   "source": [
    "my_list.pop()"
   ]
  },
  {
   "cell_type": "code",
   "execution_count": 14,
   "id": "b0628bf4",
   "metadata": {},
   "outputs": [
    {
     "data": {
      "text/plain": [
       "[6, [True, 'list', '2', 'nice'], 'PythonPythonPython', 0]"
      ]
     },
     "execution_count": 14,
     "metadata": {},
     "output_type": "execute_result"
    }
   ],
   "source": [
    "## Create a list using Operators\n",
    "\n",
    "mix_list=[a*2 , my_list, c*3, d * e]\n",
    "mix_list"
   ]
  },
  {
   "cell_type": "code",
   "execution_count": 15,
   "id": "1369049e",
   "metadata": {},
   "outputs": [
    {
     "data": {
      "text/plain": [
       "[[1, 2, 3],\n",
       " [6, [True, 'list', '2', 'nice'], 'PythonPythonPython', 0],\n",
       " [True, 'Python'],\n",
       " [1, 'Hello World']]"
      ]
     },
     "execution_count": 15,
     "metadata": {},
     "output_type": "execute_result"
    }
   ],
   "source": [
    "### List of lists\n",
    "\n",
    "list_lists = [[1,2,3], mix_list, [True, \"Python\"], [1, \"Hello World\"]]\n",
    "list_lists"
   ]
  },
  {
   "cell_type": "markdown",
   "id": "96514594",
   "metadata": {},
   "source": [
    "#### Subsetting and Slicing"
   ]
  },
  {
   "cell_type": "code",
   "execution_count": null,
   "id": "25477ee0",
   "metadata": {},
   "outputs": [],
   "source": [
    "my_list[1], my_list[-1] # left side starts with 0 and right with -1"
   ]
  },
  {
   "cell_type": "code",
   "execution_count": null,
   "id": "6df56f53",
   "metadata": {},
   "outputs": [],
   "source": [
    "# slicing[start(inclusive):end(exclusive)]\n",
    "my_list[:] \n",
    "\n",
    "# Select all starting element upto a certain index\n",
    "my_list[:4]\n",
    "\n",
    "# Select all elements starting from a certain index\n",
    "my_list[1:]\n",
    "\n",
    "# list manuplations with - index\n",
    "my_list[-3:]\n",
    "my_list[-3:-1]\n",
    "\n"
   ]
  },
  {
   "cell_type": "code",
   "execution_count": null,
   "id": "dd4383d2",
   "metadata": {},
   "outputs": [],
   "source": []
  },
  {
   "cell_type": "code",
   "execution_count": null,
   "id": "cf328e25",
   "metadata": {},
   "outputs": [],
   "source": [
    "## Prevent overwriting of the same list\n",
    "my_list_copy = my_list[:]\n",
    "print (my_list_copy)"
   ]
  },
  {
   "cell_type": "code",
   "execution_count": null,
   "id": "04275f62",
   "metadata": {},
   "outputs": [],
   "source": [
    "## Replace list elements\n",
    "x = my_list\n",
    "print(my_list)\n",
    "x[1] = \"r\"\n",
    "x[2:] = [\"s\", \"t\"]\n",
    "print(x)\n",
    "print(my_list)"
   ]
  },
  {
   "cell_type": "markdown",
   "id": "50650a90",
   "metadata": {},
   "source": [
    "Note: Here changing x also changes my_list. The list contains reference to list elements and not the actual elements.\n",
    "\n",
    "To create a copy use y = list(x) or y = x[ : ]"
   ]
  },
  {
   "cell_type": "code",
   "execution_count": null,
   "id": "b20530e1",
   "metadata": {},
   "outputs": [],
   "source": [
    "# Extend a list\n",
    "my_list = my_list + list_lists + [True, False]\n",
    "print(my_list)"
   ]
  },
  {
   "cell_type": "code",
   "execution_count": null,
   "id": "95dbff91",
   "metadata": {},
   "outputs": [],
   "source": [
    "# Delete list elements\n",
    "del(x[1])\n",
    "x"
   ]
  },
  {
   "cell_type": "code",
   "execution_count": null,
   "id": "f6e18a24",
   "metadata": {},
   "outputs": [],
   "source": [
    "# Subsetting list of lists\n",
    "\n",
    "my_list[5][1][0:]"
   ]
  },
  {
   "cell_type": "code",
   "execution_count": null,
   "id": "6b404f92",
   "metadata": {},
   "outputs": [],
   "source": [
    "# Reversing a list\n",
    "# Syntax: reversed_list = systems[start:stop:step] \n",
    "reversed_list = my_list_copy[2::-1]\n",
    "reversed_list"
   ]
  },
  {
   "cell_type": "code",
   "execution_count": null,
   "id": "00b9c287",
   "metadata": {},
   "outputs": [],
   "source": []
  },
  {
   "cell_type": "markdown",
   "id": "07971e14",
   "metadata": {},
   "source": [
    "#### Methods and Objects in Python"
   ]
  },
  {
   "cell_type": "markdown",
   "id": "d011577c",
   "metadata": {},
   "source": [
    "String, list , float etc are called objects in python adn have a specific type.\n",
    "\n",
    "Methods are functions that belong to objects\n",
    "\n",
    "In Python everything is object and have methods associated with them"
   ]
  },
  {
   "cell_type": "markdown",
   "id": "2a48a3f8",
   "metadata": {},
   "source": [
    "### 5. List Methods"
   ]
  },
  {
   "cell_type": "markdown",
   "id": "74c572c5",
   "metadata": {},
   "source": [
    "append(), replace() , index()"
   ]
  },
  {
   "cell_type": "markdown",
   "id": "d571ffa1",
   "metadata": {},
   "source": [
    "##### String Methods"
   ]
  },
  {
   "cell_type": "code",
   "execution_count": null,
   "id": "ed8b2030",
   "metadata": {},
   "outputs": [],
   "source": [
    "## Change to upper case\n",
    "c.upper()\n",
    "\n",
    "# Find the get the number of times an element appears in a list\n",
    "c.count(\"P\")"
   ]
  },
  {
   "cell_type": "markdown",
   "id": "f7c62596",
   "metadata": {},
   "source": [
    "##### List Methods"
   ]
  },
  {
   "cell_type": "code",
   "execution_count": null,
   "id": "14ecd945",
   "metadata": {},
   "outputs": [],
   "source": [
    "# The list data type has some more methods. Here are all of the methods of list objects:\n",
    "\n",
    "# list.append(x)\n",
    "# Add an item to the end of the list. Equivalent to a[len(a):] = [x].\n",
    "\n",
    "# list.extend(iterable)\n",
    "# Extend the list by appending all the items from the iterable. Equivalent to a[len(a):] = iterable.\n",
    "\n",
    "# list.insert(i, x)\n",
    "# Insert an item at a given position. The first argument is the index of the element before which to insert, so a.insert(0, x) inserts at the front of the list, and a.insert(len(a), x) is equivalent to a.append(x).\n",
    "\n",
    "# list.remove(x)\n",
    "# Remove the first item from the list whose value is equal to x. It raises a ValueError if there is no such item.\n",
    "\n",
    "# list.pop([i])\n",
    "# Remove the item at the given position in the list, and return it. If no index is specified, a.pop() removes and returns the last item in the list. (The square brackets around the i in the method signature denote that the parameter is optional, not that you should type square brackets at that position. You will see this notation frequently in the Python Library Reference.)\n",
    "\n",
    "# list.clear()\n",
    "# Remove all items from the list. Equivalent to del a[:].\n",
    "\n",
    "# list.index(x[, start[, end]])\n",
    "# Return zero-based index in the list of the first item whose value is equal to x. Raises a ValueError if there is no such item.\n",
    "\n",
    "# The optional arguments start and end are interpreted as in the slice notation and are used to limit the search to a particular subsequence of the list. The returned index is computed relative to the beginning of the full sequence rather than the start argument.\n",
    "\n",
    "# list.count(x)\n",
    "# Return the number of times x appears in the list.\n",
    "\n",
    "# list.sort(*, key=None, reverse=False)\n",
    "# Sort the items of the list in place (the arguments can be used for sort customization, see sorted() for their explanation).\n",
    "\n",
    "# list.reverse()\n",
    "# Reverse the elements of the list in place.\n",
    "\n",
    "# list.copy()\n",
    "# Return a shallow copy of the list. Equivalent to a[:]"
   ]
  },
  {
   "cell_type": "code",
   "execution_count": 39,
   "id": "99dd2306",
   "metadata": {},
   "outputs": [
    {
     "data": {
      "text/plain": [
       "[True, 'list', '2', 'nice', 'Its Real']"
      ]
     },
     "execution_count": 39,
     "metadata": {},
     "output_type": "execute_result"
    }
   ],
   "source": [
    "# add elements to a list\n",
    "my_list.append(\"Its Real\")\n",
    "my_list"
   ]
  },
  {
   "cell_type": "code",
   "execution_count": null,
   "id": "de904f02",
   "metadata": {},
   "outputs": [],
   "source": [
    "len(my_list)"
   ]
  },
  {
   "cell_type": "code",
   "execution_count": null,
   "id": "91d7f6c6",
   "metadata": {},
   "outputs": [],
   "source": [
    "# range([start,]stop[,step])\n",
    "# Where:\n",
    "\n",
    "# start: Specifies where to start generating integers for the list.\n",
    "# stop: Specifies where to stop generating integers for the list.\n",
    "# step: Specifies the incrementation\n",
    "\n",
    "for i in range(10,20,2):\n",
    "    print(i)\n",
    "    \n",
    "for i in range(20):\n",
    "    print(i)\n"
   ]
  },
  {
   "cell_type": "code",
   "execution_count": null,
   "id": "01502329",
   "metadata": {},
   "outputs": [],
   "source": [
    "sum([9,3,2,5,1,-9])"
   ]
  },
  {
   "cell_type": "code",
   "execution_count": 21,
   "id": "031a392f",
   "metadata": {},
   "outputs": [
    {
     "data": {
      "text/plain": [
       "90"
      ]
     },
     "execution_count": 21,
     "metadata": {},
     "output_type": "execute_result"
    }
   ],
   "source": [
    "numbers = [4,3,9,10,33,90]\n",
    "min(numbers)\n",
    "max(numbers)"
   ]
  },
  {
   "cell_type": "code",
   "execution_count": null,
   "id": "7e640262",
   "metadata": {},
   "outputs": [],
   "source": [
    "sorted(numbers, reverse=True)"
   ]
  },
  {
   "cell_type": "code",
   "execution_count": null,
   "id": "3975d6cb",
   "metadata": {},
   "outputs": [],
   "source": [
    "list(reversed(numbers))"
   ]
  },
  {
   "cell_type": "code",
   "execution_count": null,
   "id": "53eac84c",
   "metadata": {},
   "outputs": [],
   "source": [
    "list(enumerate(numbers, 3))"
   ]
  },
  {
   "cell_type": "code",
   "execution_count": null,
   "id": "6f02fd87",
   "metadata": {},
   "outputs": [],
   "source": [
    "l1 = [3,4,7] # list with size 3\n",
    "l2 = [0,1]   # list with size 2(shortest iterable)\n",
    "list(zip(l1,l2))"
   ]
  },
  {
   "cell_type": "code",
   "execution_count": null,
   "id": "abb31210",
   "metadata": {},
   "outputs": [],
   "source": [
    "# count the frequency\n",
    "my_list.count(\"Python\"), my_list.count(True)"
   ]
  },
  {
   "cell_type": "code",
   "execution_count": null,
   "id": "d00d9026",
   "metadata": {},
   "outputs": [],
   "source": [
    "# find the index\n",
    "my_list.index(True) # return the first appearance index"
   ]
  },
  {
   "cell_type": "code",
   "execution_count": null,
   "id": "6d950714",
   "metadata": {},
   "outputs": [],
   "source": [
    "#reverses the order of the elements in the list it is called on.\n",
    "my_list.reverse()\n",
    "my_list"
   ]
  },
  {
   "cell_type": "code",
   "execution_count": 40,
   "id": "cebd3efb",
   "metadata": {},
   "outputs": [
    {
     "data": {
      "text/plain": [
       "2"
      ]
     },
     "execution_count": 40,
     "metadata": {},
     "output_type": "execute_result"
    }
   ],
   "source": [
    "fruits = ['orange', 'apple', 'pear', 'banana', 'kiwi', 'apple', 'banana']\n",
    "fruits.count('apple')"
   ]
  },
  {
   "cell_type": "code",
   "execution_count": null,
   "id": "3f4d7b67",
   "metadata": {},
   "outputs": [],
   "source": [
    "fruits.count('tangerine')"
   ]
  },
  {
   "cell_type": "code",
   "execution_count": 42,
   "id": "4ba4c7ab",
   "metadata": {},
   "outputs": [
    {
     "data": {
      "text/plain": [
       "3"
      ]
     },
     "execution_count": 42,
     "metadata": {},
     "output_type": "execute_result"
    }
   ],
   "source": [
    "fruits.index('banana')"
   ]
  },
  {
   "cell_type": "code",
   "execution_count": null,
   "id": "65eeedc4",
   "metadata": {},
   "outputs": [],
   "source": [
    "fruits.index('banana', 4)  # Find next banana starting a position 4"
   ]
  },
  {
   "cell_type": "code",
   "execution_count": null,
   "id": "efaa131a",
   "metadata": {},
   "outputs": [],
   "source": [
    "fruits.reverse()\n",
    "fruits"
   ]
  },
  {
   "cell_type": "code",
   "execution_count": 41,
   "id": "3c8a08da",
   "metadata": {},
   "outputs": [
    {
     "data": {
      "text/plain": [
       "['orange', 'apple', 'pear', 'banana', 'kiwi', 'apple', 'banana', 'grape']"
      ]
     },
     "execution_count": 41,
     "metadata": {},
     "output_type": "execute_result"
    }
   ],
   "source": [
    "fruits.append('grape')\n",
    "fruits"
   ]
  },
  {
   "cell_type": "code",
   "execution_count": 43,
   "id": "321b561a",
   "metadata": {},
   "outputs": [
    {
     "data": {
      "text/plain": [
       "['apple', 'apple', 'banana', 'banana', 'grape', 'kiwi', 'orange', 'pear']"
      ]
     },
     "execution_count": 43,
     "metadata": {},
     "output_type": "execute_result"
    }
   ],
   "source": [
    "fruits.sort()\n",
    "fruits"
   ]
  },
  {
   "cell_type": "code",
   "execution_count": null,
   "id": "6b8fb8f6",
   "metadata": {},
   "outputs": [],
   "source": [
    "fruits.pop()\n",
    "fruits"
   ]
  },
  {
   "cell_type": "code",
   "execution_count": 44,
   "id": "e24cb265",
   "metadata": {},
   "outputs": [
    {
     "data": {
      "text/plain": [
       "8"
      ]
     },
     "execution_count": 44,
     "metadata": {},
     "output_type": "execute_result"
    }
   ],
   "source": [
    "len(fruits)"
   ]
  },
  {
   "cell_type": "code",
   "execution_count": 46,
   "id": "8632cd78",
   "metadata": {},
   "outputs": [
    {
     "data": {
      "text/plain": [
       "[(9, 1),\n",
       " (10, 2),\n",
       " (11, 3),\n",
       " (12, 4),\n",
       " (13, 5),\n",
       " (14, 6),\n",
       " (15, 7),\n",
       " (16, 8),\n",
       " (17, 9)]"
      ]
     },
     "execution_count": 46,
     "metadata": {},
     "output_type": "execute_result"
    }
   ],
   "source": [
    "list1 = [1,2,3,4,5,6,7,8,9]\n",
    "list2 = [11,12,12,14,15,16,17,18,19]\n",
    "\n",
    "\n",
    "a = list(enumerate(list1,len(list1)))\n",
    "a\n",
    "\n",
    "# for x,y in a :\n",
    "#     print(x,y, x+y)\n",
    "    \n",
    "# len(list1)\n",
    "# range(9)"
   ]
  },
  {
   "cell_type": "code",
   "execution_count": null,
   "id": "5720e2ac",
   "metadata": {},
   "outputs": [],
   "source": [
    "t = zip(list1,list2)\n",
    "\n",
    "for x,y in t:\n",
    "#     print((x,y))\n",
    "    print(x,y, x+y)\n",
    "\n",
    "\n",
    "# list(zip(list1,list2))"
   ]
  },
  {
   "cell_type": "code",
   "execution_count": null,
   "id": "71bed389",
   "metadata": {},
   "outputs": [],
   "source": [
    "# Sets in Python\n",
    "a = ['apple', 'orange', 'apple', 'pear', 'orange', 'banana']\n",
    "b =list(set(a))"
   ]
  },
  {
   "cell_type": "markdown",
   "id": "37e68c59",
   "metadata": {},
   "source": [
    "### 6. Loops in Python\n"
   ]
  },
  {
   "cell_type": "code",
   "execution_count": 47,
   "id": "daf2cc3e",
   "metadata": {},
   "outputs": [
    {
     "data": {
      "text/plain": [
       "range(0, 10)"
      ]
     },
     "execution_count": 47,
     "metadata": {},
     "output_type": "execute_result"
    }
   ],
   "source": [
    "range(10)"
   ]
  },
  {
   "cell_type": "code",
   "execution_count": 48,
   "id": "09f21c99",
   "metadata": {},
   "outputs": [
    {
     "data": {
      "text/plain": [
       "[0, 1, 4, 9, 16, 25, 36, 49, 64, 81]"
      ]
     },
     "execution_count": 48,
     "metadata": {},
     "output_type": "execute_result"
    }
   ],
   "source": [
    "squares = []\n",
    "\n",
    "for x in range(10):\n",
    "    squares.append(x**2)\n",
    "squares"
   ]
  },
  {
   "cell_type": "code",
   "execution_count": null,
   "id": "614646c8",
   "metadata": {},
   "outputs": [],
   "source": [
    "list1\n",
    "# list2 = list1[1:]\n",
    "# list2\n",
    "\n",
    "# for i,j in zip(list1,list2):\n",
    "#     print(i,j)"
   ]
  },
  {
   "cell_type": "code",
   "execution_count": null,
   "id": "6096c67d",
   "metadata": {},
   "outputs": [],
   "source": [
    "lambda x :x**2"
   ]
  },
  {
   "cell_type": "code",
   "execution_count": null,
   "id": "a6a1e410",
   "metadata": {},
   "outputs": [],
   "source": [
    "add = lambda x, y : x + y \n",
    "print (add(2, 3))"
   ]
  },
  {
   "cell_type": "code",
   "execution_count": null,
   "id": "e5dc210c",
   "metadata": {},
   "outputs": [],
   "source": [
    "names = [\"john\",\"petter\",\"job\",\"paul\",\"mat\"]\n",
    "list(filter(lambda name: len(name) >=4, names))"
   ]
  },
  {
   "cell_type": "code",
   "execution_count": null,
   "id": "a8c980dc",
   "metadata": {},
   "outputs": [],
   "source": [
    "squares = list(map(lambda x: x**2, range(10)))\n",
    "squares"
   ]
  },
  {
   "cell_type": "code",
   "execution_count": null,
   "id": "334a0d8e",
   "metadata": {},
   "outputs": [],
   "source": [
    "# A list comprehension consists of brackets containing an expression followed by a for clause, \n",
    "# then zero or more for or if clauses. The result will be a new list resulting \n",
    "# from evaluating the expression in the context of the for and if clauses which follow it."
   ]
  },
  {
   "cell_type": "code",
   "execution_count": null,
   "id": "996b2a8c",
   "metadata": {},
   "outputs": [],
   "source": [
    "squares = [x**2 for x in range(10)]\n",
    "squares"
   ]
  },
  {
   "cell_type": "code",
   "execution_count": 50,
   "id": "084457eb",
   "metadata": {},
   "outputs": [
    {
     "data": {
      "text/plain": [
       "[(1, 3), (1, 4), (2, 3), (2, 1), (2, 4), (3, 1), (3, 4)]"
      ]
     },
     "execution_count": 50,
     "metadata": {},
     "output_type": "execute_result"
    }
   ],
   "source": [
    "[(x, y) for x in [1,2,3] for y in [3,1,4] if x != y]"
   ]
  },
  {
   "cell_type": "code",
   "execution_count": null,
   "id": "c4148e74",
   "metadata": {},
   "outputs": [],
   "source": [
    "list_a = [1, 2, 3]\n",
    "list_b = [10, 20, 30]\n",
    "  \n",
    "list(map(lambda x, y: x + y, list_a, list_b))"
   ]
  },
  {
   "cell_type": "markdown",
   "id": "2085ed6b",
   "metadata": {},
   "source": [
    "### 7. Assignment for Lists"
   ]
  },
  {
   "cell_type": "code",
   "execution_count": 52,
   "id": "b79582ea",
   "metadata": {},
   "outputs": [
    {
     "data": {
      "text/plain": [
       "[-8, -4, 0, 4, 8]"
      ]
     },
     "execution_count": 52,
     "metadata": {},
     "output_type": "execute_result"
    }
   ],
   "source": [
    " vec = [-4, -2, 0, 2, 4]\n",
    "# create a new list with the values doubled\n",
    "[x*2 for x in vec]"
   ]
  },
  {
   "cell_type": "code",
   "execution_count": null,
   "id": "301899ee",
   "metadata": {},
   "outputs": [],
   "source": [
    "# filter the list to exclude negative numbers\n",
    "[x for x in vec if x >= 0]"
   ]
  },
  {
   "cell_type": "code",
   "execution_count": 53,
   "id": "d8357a22",
   "metadata": {},
   "outputs": [
    {
     "data": {
      "text/plain": [
       "[4, 2, 0, 2, 4]"
      ]
     },
     "execution_count": 53,
     "metadata": {},
     "output_type": "execute_result"
    }
   ],
   "source": [
    "# apply a function to all the elements\n",
    "[abs(x) for x in vec]"
   ]
  },
  {
   "cell_type": "code",
   "execution_count": 58,
   "id": "2d54260f",
   "metadata": {},
   "outputs": [
    {
     "data": {
      "text/plain": [
       "['banana', 'loganberry', 'passion fruit']"
      ]
     },
     "execution_count": 58,
     "metadata": {},
     "output_type": "execute_result"
    }
   ],
   "source": [
    "# call a method on each element\n",
    "freshfruit = ['  banana', '  loganberry ', 'passion fruit  ']\n",
    "freshfruit\n",
    "[weapon.strip().lower() for weapon in freshfruit]"
   ]
  },
  {
   "cell_type": "code",
   "execution_count": null,
   "id": "43322e83",
   "metadata": {},
   "outputs": [],
   "source": [
    "# create a list of 2-tuples like (number, square)\n",
    "[(x, x**2) for x in range(6)]"
   ]
  },
  {
   "cell_type": "code",
   "execution_count": 59,
   "id": "3a84c865",
   "metadata": {},
   "outputs": [
    {
     "data": {
      "text/plain": [
       "[1, 2, 3, 4, 5, 6, 7, 8, 9]"
      ]
     },
     "execution_count": 59,
     "metadata": {},
     "output_type": "execute_result"
    }
   ],
   "source": [
    "# flatten a list using a listcomp with two 'for'\n",
    "vec = [[1,2,3], [4,5,6], [7,8,9]]\n",
    "[num for elem in vec for num in elem]\n"
   ]
  },
  {
   "cell_type": "markdown",
   "id": "d060269f",
   "metadata": {},
   "source": [
    "### 8. Dictionaries in Python"
   ]
  },
  {
   "cell_type": "code",
   "execution_count": 60,
   "id": "7f389bab",
   "metadata": {},
   "outputs": [],
   "source": [
    "#### Create dictionary\n",
    "my_dict = {\n",
    "   \"key1\":\"value1\",\n",
    "   \"key2\":\"value2\",\n",
    "}"
   ]
  },
  {
   "cell_type": "code",
   "execution_count": 61,
   "id": "a9e9debe",
   "metadata": {},
   "outputs": [
    {
     "data": {
      "text/plain": [
       "{'spain': 'madrid',\n",
       " 'france': 'paris',\n",
       " 'germany': 'bonn',\n",
       " 'norway': 'oslo',\n",
       " 'italy': 'rome',\n",
       " 'poland': 'warsaw',\n",
       " 'australia': 'vienna'}"
      ]
     },
     "execution_count": 61,
     "metadata": {},
     "output_type": "execute_result"
    }
   ],
   "source": [
    "# Definition of dictionary\n",
    "europe = {'spain':'madrid', 'france':'paris', 'germany':'bonn',\n",
    "          'norway':'oslo', 'italy':'rome', 'poland':'warsaw',\n",
    "          'australia':'vienna' }\n",
    "europe"
   ]
  },
  {
   "cell_type": "code",
   "execution_count": 51,
   "id": "55e9802d",
   "metadata": {},
   "outputs": [
    {
     "data": {
      "text/plain": [
       "{'spain': 'madrid',\n",
       " 'france': 'paris',\n",
       " 'germany': 'berlin',\n",
       " 'norway': 'oslo',\n",
       " 'italy': 'rome',\n",
       " 'poland': 'warsaw',\n",
       " 'australia': 'vienna'}"
      ]
     },
     "execution_count": 51,
     "metadata": {},
     "output_type": "execute_result"
    }
   ],
   "source": [
    "# Update capital of germany\n",
    "europe['germany']='berlin'\n",
    "europe"
   ]
  },
  {
   "cell_type": "code",
   "execution_count": null,
   "id": "a201d884",
   "metadata": {},
   "outputs": [],
   "source": [
    "# Remove australia\n",
    "del(europe['australia'])"
   ]
  },
  {
   "cell_type": "code",
   "execution_count": 45,
   "id": "16e69267",
   "metadata": {},
   "outputs": [],
   "source": [
    "# Dictionary of dictionaries\n",
    "europe1 = { 'spain': { 'capital':'madrid', 'population':46.77 },\n",
    "           'france': { 'capital':'paris', 'population':66.03 },\n",
    "           'germany': { 'capital':'berlin', 'population':80.62 },\n",
    "           'norway': { 'capital':'oslo', 'population':5.084 } }\n"
   ]
  },
  {
   "cell_type": "code",
   "execution_count": 46,
   "id": "35a05b00",
   "metadata": {},
   "outputs": [
    {
     "data": {
      "text/plain": [
       "{'spain': {'capital': 'madrid', 'population': 46.77},\n",
       " 'france': {'capital': 'paris', 'population': 66.03},\n",
       " 'germany': {'capital': 'berlin', 'population': 80.62},\n",
       " 'norway': {'capital': 'oslo', 'population': 5.084},\n",
       " 'canada': {'capital': 'ottawa', 'population': 2.787}}"
      ]
     },
     "execution_count": 46,
     "metadata": {},
     "output_type": "execute_result"
    }
   ],
   "source": [
    "europe1['canada'] = {'capital':'ottawa', 'population': 6.787} \n",
    "\n",
    "europe1['canada']['population'] = 2.787\n",
    "\n",
    "europe1"
   ]
  },
  {
   "cell_type": "code",
   "execution_count": 47,
   "id": "2bfc2677",
   "metadata": {},
   "outputs": [
    {
     "data": {
      "text/plain": [
       "{'spain': {'capital': 'madrid', 'population': 46.77},\n",
       " 'france': {'capital': 'paris', 'population': 66.03},\n",
       " 'germany': {'capital': 'berlin', 'population': 80.62},\n",
       " 'norway': {'capital': 'oslo', 'population': 5.084},\n",
       " 'canada': {'capital': 'Toronto', 'population': 2.787}}"
      ]
     },
     "execution_count": 47,
     "metadata": {},
     "output_type": "execute_result"
    }
   ],
   "source": [
    "# del(europe1['capital'])\n",
    "del(europe1['canada'])\n",
    "europe1.update({'canada':{'capital': 'Toronto', 'population': 2.787}})\n",
    "europe1"
   ]
  },
  {
   "cell_type": "code",
   "execution_count": 20,
   "id": "843f4661",
   "metadata": {},
   "outputs": [
    {
     "data": {
      "text/plain": [
       "'madrid'"
      ]
     },
     "execution_count": 20,
     "metadata": {},
     "output_type": "execute_result"
    }
   ],
   "source": [
    "europe1['spain']['capital']"
   ]
  },
  {
   "cell_type": "code",
   "execution_count": null,
   "id": "5f074454",
   "metadata": {},
   "outputs": [],
   "source": [
    "# Print out the capital of France\n",
    "print(europe1['spain']['capital'])"
   ]
  },
  {
   "cell_type": "code",
   "execution_count": null,
   "id": "852876aa",
   "metadata": {},
   "outputs": [],
   "source": [
    "# Create sub-dictionary data\n",
    "data ={'capital':'rome', 'population':59.83}\n",
    "\n",
    "# Add data to europe under key 'italy'\n",
    "europe1['italy']=data\n",
    "\n",
    "# Print europe\n",
    "print(europe1)"
   ]
  },
  {
   "cell_type": "code",
   "execution_count": 62,
   "id": "e81490f6",
   "metadata": {},
   "outputs": [
    {
     "data": {
      "text/plain": [
       "dict_keys(['spain', 'france', 'germany', 'norway', 'italy', 'poland', 'australia'])"
      ]
     },
     "execution_count": 62,
     "metadata": {},
     "output_type": "execute_result"
    }
   ],
   "source": [
    "europe.keys()"
   ]
  },
  {
   "cell_type": "code",
   "execution_count": 4,
   "id": "85e85756",
   "metadata": {},
   "outputs": [
    {
     "data": {
      "text/plain": [
       "dict_values(['madrid', 'paris', 'bonn', 'oslo', 'rome', 'warsaw', 'vienna'])"
      ]
     },
     "execution_count": 4,
     "metadata": {},
     "output_type": "execute_result"
    }
   ],
   "source": [
    "europe.values()"
   ]
  },
  {
   "cell_type": "code",
   "execution_count": 67,
   "id": "4c860728",
   "metadata": {},
   "outputs": [
    {
     "data": {
      "text/plain": [
       "dict_items([('spain', 'madrid'), ('france', 'paris'), ('germany', 'bonn'), ('norway', 'oslo'), ('italy', 'rome'), ('poland', 'warsaw'), ('australia', 'vienna')])"
      ]
     },
     "execution_count": 67,
     "metadata": {},
     "output_type": "execute_result"
    }
   ],
   "source": [
    "europe.items()"
   ]
  },
  {
   "cell_type": "code",
   "execution_count": 70,
   "id": "fb458465",
   "metadata": {},
   "outputs": [],
   "source": [
    "keys = ['Ten', 'Twenty', 'Thirty']\n",
    "values = [10, 20, 30]"
   ]
  },
  {
   "cell_type": "code",
   "execution_count": 71,
   "id": "66b43c67",
   "metadata": {},
   "outputs": [
    {
     "data": {
      "text/plain": [
       "{'Ten': 10, 'Twenty': 20, 'Thirty': 30}"
      ]
     },
     "execution_count": 71,
     "metadata": {},
     "output_type": "execute_result"
    }
   ],
   "source": [
    "res_dict = dict(zip(keys, values))\n",
    "res_dict"
   ]
  },
  {
   "cell_type": "markdown",
   "id": "1250c6d5",
   "metadata": {},
   "source": [
    "#### Functions for Dictionaries"
   ]
  },
  {
   "cell_type": "code",
   "execution_count": null,
   "id": "fe508ded",
   "metadata": {},
   "outputs": [],
   "source": [
    "dict2=dict1.copy()\n",
    "print(dict2)\n",
    " \n",
    "#clear() method\n",
    "dict1.clear()\n",
    "print(dict1)\n",
    " \n",
    "#get() method\n",
    "print(dict2.get(1))\n",
    " \n",
    "#items() method\n",
    "print(dict2.items())\n",
    " \n",
    "#keys() method\n",
    "print(dict2.keys())\n",
    " \n",
    "#pop() method\n",
    "dict2.pop(4)\n",
    "print(dict2)\n",
    " \n",
    "#popitem() method\n",
    "dict2.popitem()\n",
    "print(dict2)\n",
    " \n",
    "#update() method\n",
    "dict2.update({3:\"Scala\"})\n",
    "print(dict2)\n",
    " \n",
    "# values() method\n",
    "print(dict2.values())\n"
   ]
  },
  {
   "cell_type": "markdown",
   "id": "698038bc",
   "metadata": {},
   "source": [
    "#### Looping in Dictionaries"
   ]
  },
  {
   "cell_type": "code",
   "execution_count": null,
   "id": "1eed91c0",
   "metadata": {},
   "outputs": [],
   "source": [
    "iter_a = iter([])\n",
    "try:\n",
    "    print(next(iter_a))\n",
    "except Exception as e:\n",
    "    print(\"Empty Iterator\")"
   ]
  },
  {
   "cell_type": "code",
   "execution_count": 74,
   "id": "015ca086",
   "metadata": {},
   "outputs": [
    {
     "data": {
      "text/plain": [
       "{2: 4, 4: 16, 6: 36}"
      ]
     },
     "execution_count": 74,
     "metadata": {},
     "output_type": "execute_result"
    }
   ],
   "source": [
    "# In addition, dict comprehensions can be used to create dictionaries from arbitrary key and value expressions:\n",
    "\n",
    "{x: x**2 for x in (2, 4, 6)}"
   ]
  },
  {
   "cell_type": "code",
   "execution_count": 78,
   "id": "ddc9083e",
   "metadata": {},
   "outputs": [
    {
     "name": "stdout",
     "output_type": "stream",
     "text": [
      "['gallahad', 'the pure']\n",
      "['robin', 'the brave']\n"
     ]
    }
   ],
   "source": [
    "knights = {'gallahad': 'the pure', 'robin': 'the brave'}\n",
    "for k, v in knights.items():\n",
    "    print([k, v])"
   ]
  },
  {
   "cell_type": "code",
   "execution_count": 82,
   "id": "6e7e03a3",
   "metadata": {},
   "outputs": [
    {
     "name": "stdout",
     "output_type": "stream",
     "text": [
      "0 tic\n",
      "1 tac\n",
      "2 toe\n"
     ]
    }
   ],
   "source": [
    "for i, v in enumerate(['tic', 'tac', 'toe']):\n",
    "    print(i, v)"
   ]
  },
  {
   "cell_type": "code",
   "execution_count": 83,
   "id": "e143c781",
   "metadata": {},
   "outputs": [
    {
     "name": "stdout",
     "output_type": "stream",
     "text": [
      "What is your name?  It is lancelot.\n",
      "What is your quest?  It is the holy grail.\n",
      "What is your favorite color?  It is blue.\n"
     ]
    }
   ],
   "source": [
    "questions = ['name', 'quest', 'favorite color']\n",
    "answers = ['lancelot', 'the holy grail', 'blue']\n",
    "for q, a in zip(questions, answers):\n",
    "    print('What is your {0}?  It is {1}.'.format(q, a))"
   ]
  },
  {
   "cell_type": "code",
   "execution_count": 4,
   "id": "356d2aa8",
   "metadata": {},
   "outputs": [],
   "source": [
    "### Dictionary to DataFrame\n",
    "\n",
    "import pandas as pd\n",
    "\n",
    "# Build cars DataFrame\n",
    "names = ['United States', 'Australia', 'Japan', 'India', 'Russia', 'Morocco', 'Egypt']\n",
    "dr =  [True, False, False, False, True, True, True]\n",
    "cpc = [809, 731, 588, 18, 200, 70, 45]\n",
    "dict = { 'country':names, 'drives_right':dr, 'cars_per_cap':cpc }"
   ]
  },
  {
   "cell_type": "code",
   "execution_count": 5,
   "id": "6dfd2747",
   "metadata": {},
   "outputs": [
    {
     "name": "stdout",
     "output_type": "stream",
     "text": [
      "         country  drives_right  cars_per_cap\n",
      "0  United States          True           809\n",
      "1      Australia         False           731\n",
      "2          Japan         False           588\n",
      "3          India         False            18\n",
      "4         Russia          True           200\n",
      "5        Morocco          True            70\n",
      "6          Egypt          True            45\n"
     ]
    }
   ],
   "source": [
    "cars = pd.DataFrame(dict)\n",
    "print(cars)"
   ]
  },
  {
   "cell_type": "code",
   "execution_count": 8,
   "id": "4158eef1",
   "metadata": {},
   "outputs": [
    {
     "name": "stderr",
     "output_type": "stream",
     "text": [
      "C:\\Users\\SHIVAM~1\\AppData\\Local\\Temp/ipykernel_46588/2377321021.py:3: SettingWithCopyWarning: \n",
      "A value is trying to be set on a copy of a slice from a DataFrame\n",
      "\n",
      "See the caveats in the documentation: https://pandas.pydata.org/pandas-docs/stable/user_guide/indexing.html#returning-a-view-versus-a-copy\n",
      "  cars['cars_per_cap']['m4'] = 100\n"
     ]
    }
   ],
   "source": [
    "# Change the row index of a dataframe\n",
    "cars.index = ['m1','m2','m3','m4','m5','m6','m7']\n",
    "cars['cars_per_cap']['m4'] = 100"
   ]
  },
  {
   "cell_type": "code",
   "execution_count": 9,
   "id": "0f59df6b",
   "metadata": {},
   "outputs": [
    {
     "data": {
      "text/html": [
       "<div>\n",
       "<style scoped>\n",
       "    .dataframe tbody tr th:only-of-type {\n",
       "        vertical-align: middle;\n",
       "    }\n",
       "\n",
       "    .dataframe tbody tr th {\n",
       "        vertical-align: top;\n",
       "    }\n",
       "\n",
       "    .dataframe thead th {\n",
       "        text-align: right;\n",
       "    }\n",
       "</style>\n",
       "<table border=\"1\" class=\"dataframe\">\n",
       "  <thead>\n",
       "    <tr style=\"text-align: right;\">\n",
       "      <th></th>\n",
       "      <th>country</th>\n",
       "      <th>drives_right</th>\n",
       "      <th>cars_per_cap</th>\n",
       "    </tr>\n",
       "  </thead>\n",
       "  <tbody>\n",
       "    <tr>\n",
       "      <th>m1</th>\n",
       "      <td>United States</td>\n",
       "      <td>True</td>\n",
       "      <td>809</td>\n",
       "    </tr>\n",
       "    <tr>\n",
       "      <th>m2</th>\n",
       "      <td>Australia</td>\n",
       "      <td>False</td>\n",
       "      <td>731</td>\n",
       "    </tr>\n",
       "    <tr>\n",
       "      <th>m3</th>\n",
       "      <td>Japan</td>\n",
       "      <td>False</td>\n",
       "      <td>588</td>\n",
       "    </tr>\n",
       "    <tr>\n",
       "      <th>m4</th>\n",
       "      <td>India</td>\n",
       "      <td>False</td>\n",
       "      <td>100</td>\n",
       "    </tr>\n",
       "    <tr>\n",
       "      <th>m5</th>\n",
       "      <td>Russia</td>\n",
       "      <td>True</td>\n",
       "      <td>200</td>\n",
       "    </tr>\n",
       "    <tr>\n",
       "      <th>m6</th>\n",
       "      <td>Morocco</td>\n",
       "      <td>True</td>\n",
       "      <td>70</td>\n",
       "    </tr>\n",
       "    <tr>\n",
       "      <th>m7</th>\n",
       "      <td>Egypt</td>\n",
       "      <td>True</td>\n",
       "      <td>45</td>\n",
       "    </tr>\n",
       "  </tbody>\n",
       "</table>\n",
       "</div>"
      ],
      "text/plain": [
       "          country  drives_right  cars_per_cap\n",
       "m1  United States          True           809\n",
       "m2      Australia         False           731\n",
       "m3          Japan         False           588\n",
       "m4          India         False           100\n",
       "m5         Russia          True           200\n",
       "m6        Morocco          True            70\n",
       "m7          Egypt          True            45"
      ]
     },
     "execution_count": 9,
     "metadata": {},
     "output_type": "execute_result"
    }
   ],
   "source": [
    "cars"
   ]
  },
  {
   "cell_type": "code",
   "execution_count": 12,
   "id": "2321f95f",
   "metadata": {},
   "outputs": [
    {
     "data": {
      "text/html": [
       "<div>\n",
       "<style scoped>\n",
       "    .dataframe tbody tr th:only-of-type {\n",
       "        vertical-align: middle;\n",
       "    }\n",
       "\n",
       "    .dataframe tbody tr th {\n",
       "        vertical-align: top;\n",
       "    }\n",
       "\n",
       "    .dataframe thead th {\n",
       "        text-align: right;\n",
       "    }\n",
       "</style>\n",
       "<table border=\"1\" class=\"dataframe\">\n",
       "  <thead>\n",
       "    <tr style=\"text-align: right;\">\n",
       "      <th></th>\n",
       "      <th>cars_per_cap</th>\n",
       "    </tr>\n",
       "  </thead>\n",
       "  <tbody>\n",
       "    <tr>\n",
       "      <th>m1</th>\n",
       "      <td>809</td>\n",
       "    </tr>\n",
       "    <tr>\n",
       "      <th>m2</th>\n",
       "      <td>731</td>\n",
       "    </tr>\n",
       "    <tr>\n",
       "      <th>m3</th>\n",
       "      <td>588</td>\n",
       "    </tr>\n",
       "    <tr>\n",
       "      <th>m4</th>\n",
       "      <td>100</td>\n",
       "    </tr>\n",
       "    <tr>\n",
       "      <th>m5</th>\n",
       "      <td>200</td>\n",
       "    </tr>\n",
       "    <tr>\n",
       "      <th>m6</th>\n",
       "      <td>70</td>\n",
       "    </tr>\n",
       "    <tr>\n",
       "      <th>m7</th>\n",
       "      <td>45</td>\n",
       "    </tr>\n",
       "  </tbody>\n",
       "</table>\n",
       "</div>"
      ],
      "text/plain": [
       "    cars_per_cap\n",
       "m1           809\n",
       "m2           731\n",
       "m3           588\n",
       "m4           100\n",
       "m5           200\n",
       "m6            70\n",
       "m7            45"
      ]
     },
     "execution_count": 12,
     "metadata": {},
     "output_type": "execute_result"
    }
   ],
   "source": [
    "# Access a column as a dataframe\n",
    "cars[['cars_per_cap']]"
   ]
  },
  {
   "cell_type": "code",
   "execution_count": 58,
   "id": "8797b9ae",
   "metadata": {},
   "outputs": [],
   "source": [
    "#### List of customers and account details\n",
    "\n",
    "names =[\"Cust1\", \"Cust2\", \"Cust3\",\"Cust11\", \"Cust21\", \"Cust31\",\"Cust12\", \"Cust22\", \"Cust32\"]\n",
    "\n",
    "account_type = [\"Savings\", \"Chequeing\", \"Savings\",\"Savings\", \"Chequeing\", \"Savings\",\"Savings\", \"Chequeing\",'Savings']\n",
    "\n",
    "balance = [100000, 200000, 300000,100000, 200000, 300000,100000, 200000, 300000]"
   ]
  },
  {
   "cell_type": "code",
   "execution_count": 59,
   "id": "19a04b9b",
   "metadata": {},
   "outputs": [],
   "source": [
    "# Dictionary using the lists\n",
    "dict1 = {'Customer':names,'Account':account_type, \"Balance\":balance}"
   ]
  },
  {
   "cell_type": "code",
   "execution_count": 60,
   "id": "e2e947b9",
   "metadata": {},
   "outputs": [
    {
     "data": {
      "text/plain": [
       "{'Customer': ['Cust1',\n",
       "  'Cust2',\n",
       "  'Cust3',\n",
       "  'Cust11',\n",
       "  'Cust21',\n",
       "  'Cust31',\n",
       "  'Cust12',\n",
       "  'Cust22',\n",
       "  'Cust32'],\n",
       " 'Account': ['Savings',\n",
       "  'Chequeing',\n",
       "  'Savings',\n",
       "  'Savings',\n",
       "  'Chequeing',\n",
       "  'Savings',\n",
       "  'Savings',\n",
       "  'Chequeing',\n",
       "  'Savings'],\n",
       " 'Balance': [100000,\n",
       "  200000,\n",
       "  300000,\n",
       "  100000,\n",
       "  200000,\n",
       "  300000,\n",
       "  100000,\n",
       "  200000,\n",
       "  300000]}"
      ]
     },
     "execution_count": 60,
     "metadata": {},
     "output_type": "execute_result"
    }
   ],
   "source": [
    "dict1"
   ]
  },
  {
   "cell_type": "code",
   "execution_count": 61,
   "id": "0d4f1db8",
   "metadata": {},
   "outputs": [
    {
     "data": {
      "text/html": [
       "<div>\n",
       "<style scoped>\n",
       "    .dataframe tbody tr th:only-of-type {\n",
       "        vertical-align: middle;\n",
       "    }\n",
       "\n",
       "    .dataframe tbody tr th {\n",
       "        vertical-align: top;\n",
       "    }\n",
       "\n",
       "    .dataframe thead th {\n",
       "        text-align: right;\n",
       "    }\n",
       "</style>\n",
       "<table border=\"1\" class=\"dataframe\">\n",
       "  <thead>\n",
       "    <tr style=\"text-align: right;\">\n",
       "      <th></th>\n",
       "      <th>Customer</th>\n",
       "      <th>Account</th>\n",
       "      <th>Balance</th>\n",
       "    </tr>\n",
       "  </thead>\n",
       "  <tbody>\n",
       "    <tr>\n",
       "      <th>0</th>\n",
       "      <td>Cust1</td>\n",
       "      <td>Savings</td>\n",
       "      <td>100000</td>\n",
       "    </tr>\n",
       "    <tr>\n",
       "      <th>1</th>\n",
       "      <td>Cust2</td>\n",
       "      <td>Chequeing</td>\n",
       "      <td>200000</td>\n",
       "    </tr>\n",
       "    <tr>\n",
       "      <th>2</th>\n",
       "      <td>Cust3</td>\n",
       "      <td>Savings</td>\n",
       "      <td>300000</td>\n",
       "    </tr>\n",
       "    <tr>\n",
       "      <th>3</th>\n",
       "      <td>Cust11</td>\n",
       "      <td>Savings</td>\n",
       "      <td>100000</td>\n",
       "    </tr>\n",
       "    <tr>\n",
       "      <th>4</th>\n",
       "      <td>Cust21</td>\n",
       "      <td>Chequeing</td>\n",
       "      <td>200000</td>\n",
       "    </tr>\n",
       "    <tr>\n",
       "      <th>5</th>\n",
       "      <td>Cust31</td>\n",
       "      <td>Savings</td>\n",
       "      <td>300000</td>\n",
       "    </tr>\n",
       "    <tr>\n",
       "      <th>6</th>\n",
       "      <td>Cust12</td>\n",
       "      <td>Savings</td>\n",
       "      <td>100000</td>\n",
       "    </tr>\n",
       "    <tr>\n",
       "      <th>7</th>\n",
       "      <td>Cust22</td>\n",
       "      <td>Chequeing</td>\n",
       "      <td>200000</td>\n",
       "    </tr>\n",
       "    <tr>\n",
       "      <th>8</th>\n",
       "      <td>Cust32</td>\n",
       "      <td>Savings</td>\n",
       "      <td>300000</td>\n",
       "    </tr>\n",
       "  </tbody>\n",
       "</table>\n",
       "</div>"
      ],
      "text/plain": [
       "  Customer    Account  Balance\n",
       "0    Cust1    Savings   100000\n",
       "1    Cust2  Chequeing   200000\n",
       "2    Cust3    Savings   300000\n",
       "3   Cust11    Savings   100000\n",
       "4   Cust21  Chequeing   200000\n",
       "5   Cust31    Savings   300000\n",
       "6   Cust12    Savings   100000\n",
       "7   Cust22  Chequeing   200000\n",
       "8   Cust32    Savings   300000"
      ]
     },
     "execution_count": 61,
     "metadata": {},
     "output_type": "execute_result"
    }
   ],
   "source": [
    "#Import the pandas library to create a dataframe\n",
    "import pandas as pd\n",
    "\n",
    "\n",
    "# creating the dataframe\n",
    "\n",
    "data = pd.DataFrame(dict1)\n",
    "\n",
    "data"
   ]
  },
  {
   "cell_type": "code",
   "execution_count": null,
   "id": "3cd6d90c",
   "metadata": {},
   "outputs": [],
   "source": [
    "new_data.groupby('Gender')['Number of Open Complaints'].sum()"
   ]
  },
  {
   "cell_type": "code",
   "execution_count": null,
   "id": "66a6cd2c",
   "metadata": {},
   "outputs": [],
   "source": [
    "new_data.groupby('Gender')['Number of Open Complaints'].mean() "
   ]
  },
  {
   "cell_type": "code",
   "execution_count": null,
   "id": "07b7c14f",
   "metadata": {},
   "outputs": [],
   "source": [
    "new_data.groupby('Gender')['Number of Policies'].mean()"
   ]
  },
  {
   "cell_type": "code",
   "execution_count": null,
   "id": "564bf1d5",
   "metadata": {},
   "outputs": [],
   "source": [
    "new_data.groupby('Vehicle Size')['Number of Policies'].mean()"
   ]
  },
  {
   "cell_type": "code",
   "execution_count": null,
   "id": "9917f76c",
   "metadata": {},
   "outputs": [],
   "source": [
    "new_data.groupby('Vehicle Size')['Total Claim Amount'].mean()"
   ]
  },
  {
   "cell_type": "code",
   "execution_count": null,
   "id": "10cfbf0b",
   "metadata": {},
   "outputs": [],
   "source": [
    "new_data.groupby('Vehicle Class')['Total Claim Amount'].mean()"
   ]
  },
  {
   "cell_type": "code",
   "execution_count": null,
   "id": "bd24e78b",
   "metadata": {},
   "outputs": [],
   "source": [
    "cols = ['Gender','Vehicle Class']\n",
    "\n",
    "new_data.groupby(cols)['Total Claim Amount'].mean()"
   ]
  },
  {
   "cell_type": "code",
   "execution_count": null,
   "id": "a2d801cd",
   "metadata": {},
   "outputs": [],
   "source": [
    "import matplotlib.pyplot as plt\n",
    "import seaborn as sns"
   ]
  },
  {
   "cell_type": "code",
   "execution_count": null,
   "id": "7316fa9d",
   "metadata": {},
   "outputs": [],
   "source": []
  },
  {
   "cell_type": "code",
   "execution_count": null,
   "id": "72fecee0",
   "metadata": {},
   "outputs": [],
   "source": [
    "sns.scatterplot(data = new_data,x ='Total Claim Amount',y ='Customer Lifetime Value', marker = \"+\")"
   ]
  },
  {
   "cell_type": "code",
   "execution_count": null,
   "id": "0e465033",
   "metadata": {},
   "outputs": [],
   "source": [
    "sns.barplot(data = new_data, x = \"Vehicle Class\", y = \"Total Claim Amount\")\n",
    "\n",
    "plt.title(\" Vehicle class distribution across Claim amount\")\n",
    "# plt.xlable( 'Total Claim in CAD')\n",
    "plt.show()\n"
   ]
  },
  {
   "cell_type": "code",
   "execution_count": null,
   "id": "d91e408f",
   "metadata": {},
   "outputs": [],
   "source": [
    "sns.barplot(data = new_data, x = \"Gender\", y = \"Total Claim Amount\")"
   ]
  },
  {
   "cell_type": "code",
   "execution_count": null,
   "id": "c8d9d428",
   "metadata": {},
   "outputs": [],
   "source": [
    "sns.barplot(data = new_data, x = \"Number of Policies\", y = \"Total Claim Amount\")"
   ]
  },
  {
   "cell_type": "code",
   "execution_count": null,
   "id": "4a705ad0",
   "metadata": {},
   "outputs": [],
   "source": [
    "sns.barplot(data = new_data, x = \"Gender\", y = \"Number of Policies\")"
   ]
  },
  {
   "cell_type": "code",
   "execution_count": null,
   "id": "ab864d7d",
   "metadata": {},
   "outputs": [],
   "source": []
  },
  {
   "cell_type": "code",
   "execution_count": null,
   "id": "4fc1a0cb",
   "metadata": {},
   "outputs": [],
   "source": []
  },
  {
   "cell_type": "code",
   "execution_count": null,
   "id": "746936b6",
   "metadata": {},
   "outputs": [],
   "source": [
    "plt.hist(new_data['Total Claim Amount'], bins = 50)\n",
    "plt.show()"
   ]
  },
  {
   "cell_type": "code",
   "execution_count": null,
   "id": "20cbbb61",
   "metadata": {},
   "outputs": [],
   "source": []
  },
  {
   "cell_type": "code",
   "execution_count": 8,
   "id": "5620fdd0",
   "metadata": {},
   "outputs": [],
   "source": [
    "Year = [2018,2019,2020,2021,2022]\n",
    "\n",
    "Sales = [1000,1050,1150, 1200, 1350]\n",
    "\n",
    "# The difference in sales for year 2019 and 2018 is 50M USD "
   ]
  },
  {
   "cell_type": "code",
   "execution_count": 29,
   "id": "78222353",
   "metadata": {},
   "outputs": [
    {
     "name": "stdout",
     "output_type": "stream",
     "text": [
      "The difference in sales for year 2018 and 2019 is 50M USD\n",
      "The difference in sales for year 2019 and 2020 is 100M USD\n",
      "The difference in sales for year 2020 and 2021 is 50M USD\n",
      "The difference in sales for year 2021 and 2022 is 150M USD\n"
     ]
    }
   ],
   "source": [
    "Diff = []\n",
    "for j in range(len(Sales)-1):\n",
    "    a= Sales[j]\n",
    "    b = Sales[j+1]\n",
    "    Diff.append(b-a)\n",
    "Diff\n",
    "\n",
    "for x,y,z in zip(Year, Year[1:],range(len(Diff))):\n",
    "    print('The difference in sales for year {} and {} is {}M USD'.format(x,y, Diff[z]))\n",
    "#     print(x,y,z)"
   ]
  },
  {
   "cell_type": "code",
   "execution_count": 10,
   "id": "c01f70b0",
   "metadata": {},
   "outputs": [],
   "source": [
    "a =dict(zip(Year,Sales))"
   ]
  },
  {
   "cell_type": "code",
   "execution_count": 15,
   "id": "e6fe223b",
   "metadata": {},
   "outputs": [
    {
     "data": {
      "text/plain": [
       "[2018, 2019, 2020, 2021, 2022]"
      ]
     },
     "execution_count": 15,
     "metadata": {},
     "output_type": "execute_result"
    }
   ],
   "source": [
    "list(a.keys())"
   ]
  },
  {
   "cell_type": "code",
   "execution_count": null,
   "id": "f943c3a4",
   "metadata": {},
   "outputs": [],
   "source": []
  }
 ],
 "metadata": {
  "kernelspec": {
   "display_name": "Python 3 (ipykernel)",
   "language": "python",
   "name": "python3"
  },
  "language_info": {
   "codemirror_mode": {
    "name": "ipython",
    "version": 3
   },
   "file_extension": ".py",
   "mimetype": "text/x-python",
   "name": "python",
   "nbconvert_exporter": "python",
   "pygments_lexer": "ipython3",
   "version": "3.9.7"
  }
 },
 "nbformat": 4,
 "nbformat_minor": 5
}
