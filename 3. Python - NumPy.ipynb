{
 "cells": [
  {
   "cell_type": "markdown",
   "id": "e2562246",
   "metadata": {},
   "source": [
    "Title : \" Python NumPy\"\n",
    "@ Author : Shivam Goyal\n",
    "\n",
    "Date : 9 January, 2022\n",
    "\n",
    "Version 1\n",
    "\n",
    "https://www.educba.com/numpy-concatenate/?source=leftnav"
   ]
  },
  {
   "cell_type": "markdown",
   "id": "0076bfaa",
   "metadata": {},
   "source": [
    "### Numpy Arrays"
   ]
  },
  {
   "cell_type": "markdown",
   "id": "ef3312f7",
   "metadata": {},
   "source": [
    "Numpy array contains only 1 type of data"
   ]
  },
  {
   "cell_type": "code",
   "execution_count": 2,
   "id": "29c47d50",
   "metadata": {},
   "outputs": [],
   "source": [
    "import numpy as np\n",
    "import pandas as pd"
   ]
  },
  {
   "cell_type": "code",
   "execution_count": 23,
   "id": "94a1acbc",
   "metadata": {},
   "outputs": [],
   "source": [
    "# Creating an array\n",
    "\n",
    "l = np.array([3,2,1])\n",
    "b = np.array([5.3,6.3,7.4])\n",
    "c = np.array(['a','b','c'])"
   ]
  },
  {
   "cell_type": "code",
   "execution_count": 24,
   "id": "6c234455",
   "metadata": {},
   "outputs": [
    {
     "data": {
      "text/plain": [
       "(array([3, 2, 1]), array(['a', 'b', 'c'], dtype='<U1'))"
      ]
     },
     "execution_count": 24,
     "metadata": {},
     "output_type": "execute_result"
    }
   ],
   "source": [
    "l,c"
   ]
  },
  {
   "cell_type": "code",
   "execution_count": 25,
   "id": "59d631d8",
   "metadata": {},
   "outputs": [
    {
     "data": {
      "text/plain": [
       "array([[3. , 2. , 1. ],\n",
       "       [5.3, 6.3, 7.4]])"
      ]
     },
     "execution_count": 25,
     "metadata": {},
     "output_type": "execute_result"
    }
   ],
   "source": [
    "np.array([l,c])\n",
    "np.array([l,b])"
   ]
  },
  {
   "cell_type": "code",
   "execution_count": 26,
   "id": "82cfe432",
   "metadata": {},
   "outputs": [],
   "source": [
    "# NumPy provides the arange function which is analogous to the Python built-in range, but returns an array\n",
    "m = np.array([[4,2,1],[5,3,1]])\n",
    "n = np.array([[2,2,2],[2,3,4]])"
   ]
  },
  {
   "cell_type": "code",
   "execution_count": 27,
   "id": "80145335",
   "metadata": {},
   "outputs": [
    {
     "data": {
      "text/plain": [
       "(array([[4, 2, 1],\n",
       "        [5, 3, 1]]),\n",
       " array([[2, 2, 2],\n",
       "        [2, 3, 4]]))"
      ]
     },
     "execution_count": 27,
     "metadata": {},
     "output_type": "execute_result"
    }
   ],
   "source": [
    "m,n"
   ]
  },
  {
   "cell_type": "code",
   "execution_count": 28,
   "id": "54b08e47",
   "metadata": {},
   "outputs": [
    {
     "data": {
      "text/plain": [
       "(array([9, 5, 2]), array([7, 9]), 16)"
      ]
     },
     "execution_count": 28,
     "metadata": {},
     "output_type": "execute_result"
    }
   ],
   "source": [
    "np.sum(m,axis=0),np.sum(m,axis=1), np.sum(m)"
   ]
  },
  {
   "cell_type": "code",
   "execution_count": 16,
   "id": "556f31d2",
   "metadata": {},
   "outputs": [
    {
     "data": {
      "text/plain": [
       "array([[1, 2, 3],\n",
       "       [2, 3, 4],\n",
       "       [2, 2, 2],\n",
       "       [2, 3, 4]])"
      ]
     },
     "execution_count": 16,
     "metadata": {},
     "output_type": "execute_result"
    }
   ],
   "source": [
    "np.append(m,n, axis=0)"
   ]
  },
  {
   "cell_type": "code",
   "execution_count": 17,
   "id": "045c8a24",
   "metadata": {},
   "outputs": [
    {
     "data": {
      "text/plain": [
       "array([15, 20, 25, 30, 35, 40, 45, 50, 55, 60, 65, 70, 75, 80, 85])"
      ]
     },
     "execution_count": 17,
     "metadata": {},
     "output_type": "execute_result"
    }
   ],
   "source": [
    "np.arange(15,90,5)"
   ]
  },
  {
   "cell_type": "code",
   "execution_count": 19,
   "id": "b8351f62",
   "metadata": {},
   "outputs": [
    {
     "data": {
      "text/plain": [
       "(array([[65, 70, 75, 80, 85],\n",
       "        [40, 45, 50, 55, 60],\n",
       "        [15, 20, 25, 30, 35]]),\n",
       " array([[15, 20, 25, 30, 35],\n",
       "        [40, 45, 50, 55, 60],\n",
       "        [65, 70, 75, 80, 85]]))"
      ]
     },
     "execution_count": 19,
     "metadata": {},
     "output_type": "execute_result"
    }
   ],
   "source": [
    "# create an array using arange and reshape\n",
    "a = np.arange(15,90,5).reshape(3, 5)\n",
    "a[::-1],a"
   ]
  },
  {
   "cell_type": "code",
   "execution_count": 31,
   "id": "07173be2",
   "metadata": {},
   "outputs": [
    {
     "data": {
      "text/plain": [
       "(array([[4, 2, 1],\n",
       "        [5, 3, 1]]),\n",
       " array([[1, 2, 4],\n",
       "        [1, 3, 5]]))"
      ]
     },
     "execution_count": 31,
     "metadata": {},
     "output_type": "execute_result"
    }
   ],
   "source": [
    "m,np.sort(m)"
   ]
  },
  {
   "cell_type": "code",
   "execution_count": 32,
   "id": "b865ffdf",
   "metadata": {},
   "outputs": [
    {
     "data": {
      "text/plain": [
       "array([[1, 1, 1, 0, 0],\n",
       "       [0, 0, 0, 0, 0],\n",
       "       [0, 0, 0, 0, 0]])"
      ]
     },
     "execution_count": 32,
     "metadata": {},
     "output_type": "execute_result"
    }
   ],
   "source": [
    "np.where(a<30,1,0)"
   ]
  },
  {
   "cell_type": "code",
   "execution_count": null,
   "id": "6bcf33ae",
   "metadata": {},
   "outputs": [],
   "source": [
    "# np.sort(np.where(a<30,1,0))\n",
    "np.ravel(a)"
   ]
  },
  {
   "cell_type": "code",
   "execution_count": 34,
   "id": "90749607",
   "metadata": {},
   "outputs": [
    {
     "data": {
      "text/plain": [
       "(array([[4, 2, 1, 2, 2, 2],\n",
       "        [5, 3, 1, 2, 3, 4]]),\n",
       " array([[4, 2, 1],\n",
       "        [5, 3, 1],\n",
       "        [2, 2, 2],\n",
       "        [2, 3, 4]]))"
      ]
     },
     "execution_count": 34,
     "metadata": {},
     "output_type": "execute_result"
    }
   ],
   "source": [
    "np.concatenate((m,n), axis =1),np.concatenate((m,n), axis =0)"
   ]
  },
  {
   "cell_type": "code",
   "execution_count": 38,
   "id": "27b5be5b",
   "metadata": {},
   "outputs": [
    {
     "data": {
      "text/plain": [
       "array([[3. , 2. , 1. ],\n",
       "       [5.3, 6.3, 7.4]])"
      ]
     },
     "execution_count": 38,
     "metadata": {},
     "output_type": "execute_result"
    }
   ],
   "source": [
    "# Zero and Ones\n",
    "# np.ones(3, dtype=np.int32)\n",
    "# np.zeros((4,4), dtype=np.int32)\n",
    "np.empty((2, 3)) "
   ]
  },
  {
   "cell_type": "code",
   "execution_count": 42,
   "id": "54a47c84",
   "metadata": {},
   "outputs": [
    {
     "data": {
      "text/plain": [
       "array([[1, 2, 3, 4],\n",
       "       [2, 3, 4, 5],\n",
       "       [3, 4, 5, 6]])"
      ]
     },
     "execution_count": 42,
     "metadata": {},
     "output_type": "execute_result"
    }
   ],
   "source": [
    "# 3*4 array\n",
    "l = np.array([[1,2,3,4],[2,3,4,5],[3,4,5,6]]).reshape(3,4)\n",
    "l\n",
    "# l[2][3]"
   ]
  },
  {
   "cell_type": "code",
   "execution_count": 43,
   "id": "aef3add3",
   "metadata": {},
   "outputs": [
    {
     "data": {
      "text/plain": [
       "array([[  1,   8,  27,  64],\n",
       "       [  8,  27,  64, 125],\n",
       "       [ 27,  64, 125, 216]], dtype=int32)"
      ]
     },
     "execution_count": 43,
     "metadata": {},
     "output_type": "execute_result"
    }
   ],
   "source": [
    "# Operators on arrays\n",
    "\n",
    "l**3"
   ]
  },
  {
   "cell_type": "code",
   "execution_count": 47,
   "id": "7f71763c",
   "metadata": {},
   "outputs": [
    {
     "data": {
      "text/plain": [
       "array([[ 2,  4,  6,  8],\n",
       "       [ 4,  6,  8, 10],\n",
       "       [ 6,  8, 10, 12]])"
      ]
     },
     "execution_count": 47,
     "metadata": {},
     "output_type": "execute_result"
    }
   ],
   "source": [
    "l+l"
   ]
  },
  {
   "cell_type": "code",
   "execution_count": 50,
   "id": "33e22425",
   "metadata": {},
   "outputs": [
    {
     "data": {
      "text/plain": [
       "array([3, 4, 3, 4, 5, 3, 4, 5, 6])"
      ]
     },
     "execution_count": 50,
     "metadata": {},
     "output_type": "execute_result"
    }
   ],
   "source": [
    "l[l>2]"
   ]
  },
  {
   "cell_type": "code",
   "execution_count": 51,
   "id": "55bcb965",
   "metadata": {},
   "outputs": [
    {
     "data": {
      "text/plain": [
       "array([[1.        , 1.41421356, 1.73205081, 2.        ],\n",
       "       [1.41421356, 1.73205081, 2.        , 2.23606798],\n",
       "       [1.73205081, 2.        , 2.23606798, 2.44948974]])"
      ]
     },
     "execution_count": 51,
     "metadata": {},
     "output_type": "execute_result"
    }
   ],
   "source": [
    "np.sqrt(l)"
   ]
  },
  {
   "cell_type": "code",
   "execution_count": 53,
   "id": "b106543d",
   "metadata": {},
   "outputs": [
    {
     "data": {
      "text/plain": [
       "5"
      ]
     },
     "execution_count": 53,
     "metadata": {},
     "output_type": "execute_result"
    }
   ],
   "source": [
    "# Subsetting of arrays can be done same as lists\n",
    "l[2][2]"
   ]
  },
  {
   "cell_type": "code",
   "execution_count": 56,
   "id": "9e218dfd",
   "metadata": {},
   "outputs": [
    {
     "data": {
      "text/plain": [
       "2"
      ]
     },
     "execution_count": 56,
     "metadata": {},
     "output_type": "execute_result"
    }
   ],
   "source": [
    "# Functions on a array\n",
    "\n",
    "l.ndim"
   ]
  },
  {
   "cell_type": "code",
   "execution_count": null,
   "id": "652b49a6",
   "metadata": {},
   "outputs": [],
   "source": [
    "l.sum(axis=1)\n",
    "l.min(axis=1) \n",
    "np.add(l, m)\n",
    "\n",
    "np.where(l < 5, l, 10*l)\n",
    "\n",
    "np.sort(arr)\n",
    "\n",
    "np.concatenate((a, b), axis=0)\n",
    "\n",
    "l[::-1]  # reversed l\n",
    "\n",
    "l.T  # returns the array, transposed\n",
    "\n",
    "l.ravel() "
   ]
  },
  {
   "cell_type": "code",
   "execution_count": 57,
   "id": "580f1238",
   "metadata": {},
   "outputs": [
    {
     "data": {
      "text/plain": [
       "array([1, 2, 3, 4, 5, 6])"
      ]
     },
     "execution_count": 57,
     "metadata": {},
     "output_type": "execute_result"
    }
   ],
   "source": [
    "np.unique(l)"
   ]
  },
  {
   "cell_type": "code",
   "execution_count": 63,
   "id": "bfe9fe81",
   "metadata": {},
   "outputs": [
    {
     "data": {
      "text/plain": [
       "array([[0.69646919, 0.28613933, 0.22685145, 0.55131477],\n",
       "       [0.71946897, 0.42310646, 0.9807642 , 0.68482974],\n",
       "       [0.4809319 , 0.39211752, 0.34317802, 0.72904971],\n",
       "       [0.43857224, 0.0596779 , 0.39804426, 0.73799541]])"
      ]
     },
     "execution_count": 63,
     "metadata": {},
     "output_type": "execute_result"
    }
   ],
   "source": [
    "np.random.seed(123)\n",
    "np.random.random((4,4))"
   ]
  },
  {
   "cell_type": "code",
   "execution_count": 59,
   "id": "27fbc668",
   "metadata": {},
   "outputs": [
    {
     "data": {
      "text/plain": [
       "matrix([[1, 2, 3],\n",
       "        [2, 3, 4]])"
      ]
     },
     "execution_count": 59,
     "metadata": {},
     "output_type": "execute_result"
    }
   ],
   "source": [
    "# Create a 2D array using matrix function\n",
    "np.matrix([[1,2,3],[2,3,4]])"
   ]
  },
  {
   "cell_type": "code",
   "execution_count": 65,
   "id": "dea7d259",
   "metadata": {},
   "outputs": [
    {
     "data": {
      "text/plain": [
       "array([[         0,          0,          0,          0,          0],\n",
       "       [         0,          0,          0,          0,          0],\n",
       "       [      2524,          0,          0, 1886323546,          0]])"
      ]
     },
     "execution_count": 65,
     "metadata": {},
     "output_type": "execute_result"
    }
   ],
   "source": [
    "np.ndarray(shape =(3,5), dtype=int)"
   ]
  },
  {
   "cell_type": "code",
   "execution_count": 66,
   "id": "215ea137",
   "metadata": {},
   "outputs": [
    {
     "name": "stdout",
     "output_type": "stream",
     "text": [
      "Array with random values:\n",
      " [[16843009 16843009]\n",
      " [16843009 16843009]]\n"
     ]
    }
   ],
   "source": [
    "A = np.ndarray(shape=(2,2), dtype=int)\n",
    "print(\"Array with random values:\\n\", A)"
   ]
  },
  {
   "cell_type": "code",
   "execution_count": 44,
   "id": "6bc3e785",
   "metadata": {},
   "outputs": [],
   "source": [
    "#creating an array with buffer\n",
    "G = np.ndarray((3,2), buffer=np.array([1,5,3,4,5,6]),dtype=int)\n",
    "A = np.ndarray((2,2), buffer=np.array([2,3,7,8]),dtype=int)"
   ]
  },
  {
   "cell_type": "code",
   "execution_count": 45,
   "id": "4f910d7e",
   "metadata": {},
   "outputs": [
    {
     "data": {
      "text/plain": [
       "array([[  1, 125],\n",
       "       [ 27,  64],\n",
       "       [125, 216]], dtype=int32)"
      ]
     },
     "execution_count": 45,
     "metadata": {},
     "output_type": "execute_result"
    }
   ],
   "source": [
    "G**3"
   ]
  },
  {
   "cell_type": "markdown",
   "id": "0a6c69d2",
   "metadata": {},
   "source": [
    "##### Operations on Arrays"
   ]
  },
  {
   "cell_type": "code",
   "execution_count": 10,
   "id": "1107a4d5",
   "metadata": {},
   "outputs": [
    {
     "data": {
      "text/plain": [
       "(array([[  -82511314, -1843070821],\n",
       "        [  801092659,   288523256]]),\n",
       " array([[  82511316, 1843070831],\n",
       "        [-801092653, -288523248]]),\n",
       " array([[ 1, 25],\n",
       "        [ 9, 16]], dtype=int32))"
      ]
     },
     "execution_count": 10,
     "metadata": {},
     "output_type": "execute_result"
    }
   ],
   "source": [
    "# Mathematical operations on Arrays\n",
    "G + A, G-A, G**2"
   ]
  },
  {
   "cell_type": "code",
   "execution_count": 67,
   "id": "5d523a20",
   "metadata": {},
   "outputs": [
    {
     "data": {
      "text/plain": [
       "(7.0, 8.0)"
      ]
     },
     "execution_count": 67,
     "metadata": {},
     "output_type": "execute_result"
    }
   ],
   "source": [
    "x = [1, 4, 8, 10, 12]\n",
    "np.mean(x),np.median(x)\n",
    "# np.mean(G)"
   ]
  },
  {
   "cell_type": "code",
   "execution_count": 49,
   "id": "e7889159",
   "metadata": {},
   "outputs": [
    {
     "data": {
      "text/plain": [
       "array([[1, 5],\n",
       "       [3, 4],\n",
       "       [5, 6]])"
      ]
     },
     "execution_count": 49,
     "metadata": {},
     "output_type": "execute_result"
    }
   ],
   "source": [
    "G"
   ]
  },
  {
   "cell_type": "code",
   "execution_count": 55,
   "id": "cbe59015",
   "metadata": {},
   "outputs": [
    {
     "data": {
      "text/plain": [
       "array([5, 4, 5, 6])"
      ]
     },
     "execution_count": 55,
     "metadata": {},
     "output_type": "execute_result"
    }
   ],
   "source": [
    "# Where condition for arrays for filtering\n",
    "G[np.where(G>3)]\n",
    "G[G>3]"
   ]
  },
  {
   "cell_type": "code",
   "execution_count": 59,
   "id": "8ee6882f",
   "metadata": {},
   "outputs": [
    {
     "data": {
      "text/plain": [
       "array([[0, 1],\n",
       "       [0, 1],\n",
       "       [1, 1]])"
      ]
     },
     "execution_count": 59,
     "metadata": {},
     "output_type": "execute_result"
    }
   ],
   "source": [
    "# replace an element in array based on condition\n",
    "np.where(G>3,1,0)  "
   ]
  },
  {
   "cell_type": "code",
   "execution_count": 24,
   "id": "323ccb63",
   "metadata": {},
   "outputs": [
    {
     "data": {
      "text/plain": [
       "array([[          1,           5,   -82511315, -1843070826,           1,\n",
       "                  5],\n",
       "       [          3,           4,   801092656,   288523252,           3,\n",
       "                  4]])"
      ]
     },
     "execution_count": 24,
     "metadata": {},
     "output_type": "execute_result"
    }
   ],
   "source": [
    "# Joining 2 or more arrays\n",
    "# np.concatenate((G,A,G), axis = 0) # rowbind\n",
    "np.concatenate((G,A,G), axis = 1) # cbind\n"
   ]
  },
  {
   "cell_type": "code",
   "execution_count": 15,
   "id": "c8aa7bd2",
   "metadata": {},
   "outputs": [
    {
     "data": {
      "text/plain": [
       "array([[1, 3],\n",
       "       [5, 4]])"
      ]
     },
     "execution_count": 15,
     "metadata": {},
     "output_type": "execute_result"
    }
   ],
   "source": [
    "# Transposing an array\n",
    "G.T"
   ]
  },
  {
   "cell_type": "code",
   "execution_count": 16,
   "id": "bf5a5573",
   "metadata": {},
   "outputs": [
    {
     "data": {
      "text/plain": [
       "(array([[          1,           5,   -82511315, -1843070826],\n",
       "        [          3,           4,   801092656,   288523252]]),\n",
       " array([[2, 1, 5],\n",
       "        [2, 3, 4]]))"
      ]
     },
     "execution_count": 16,
     "metadata": {},
     "output_type": "execute_result"
    }
   ],
   "source": [
    "## Adding an elementor an array to array\n",
    "np.append(G,A, axis=1),np.insert(G,0,2, axis=1)"
   ]
  },
  {
   "cell_type": "code",
   "execution_count": 69,
   "id": "50e0b064",
   "metadata": {},
   "outputs": [
    {
     "data": {
      "text/plain": [
       "array([5.3, 7.4])"
      ]
     },
     "execution_count": 69,
     "metadata": {},
     "output_type": "execute_result"
    }
   ],
   "source": [
    "# Deleting elements from an array\n",
    "np.delete(b,1)"
   ]
  },
  {
   "cell_type": "code",
   "execution_count": 18,
   "id": "8c3821d3",
   "metadata": {},
   "outputs": [
    {
     "data": {
      "text/plain": [
       "array([          1,           5,   -82511315, -1843070826,           3,\n",
       "                 4,   801092656,   288523252])"
      ]
     },
     "execution_count": 18,
     "metadata": {},
     "output_type": "execute_result"
    }
   ],
   "source": [
    "# ravel function is used to flatten or present the data given in a linear manner\n",
    "np.ravel(np.append(G,A, axis=1),order='C')"
   ]
  },
  {
   "cell_type": "code",
   "execution_count": 32,
   "id": "b6c75b48",
   "metadata": {},
   "outputs": [
    {
     "data": {
      "text/plain": [
       "(2, 2)"
      ]
     },
     "execution_count": 32,
     "metadata": {},
     "output_type": "execute_result"
    }
   ],
   "source": [
    "G.shape"
   ]
  },
  {
   "cell_type": "code",
   "execution_count": 19,
   "id": "599ff8ab",
   "metadata": {},
   "outputs": [
    {
     "data": {
      "text/plain": [
       "array([1, 5, 3, 4])"
      ]
     },
     "execution_count": 19,
     "metadata": {},
     "output_type": "execute_result"
    }
   ],
   "source": [
    "G.reshape(-1)"
   ]
  },
  {
   "cell_type": "code",
   "execution_count": 27,
   "id": "dceeeabd",
   "metadata": {},
   "outputs": [],
   "source": [
    "################ Random Number Generators\n",
    "\n",
    "np.random.seed()\n",
    "# np.random.rans()\n",
    "# np.random.randint(0,2)"
   ]
  },
  {
   "cell_type": "markdown",
   "id": "074e18ca",
   "metadata": {},
   "source": [
    "seed(): sets the random seed, so that your results are the reproducible\n",
    " between simulations. As an argument, \n",
    "it takes an integer of your choosing. \n",
    "If you call the function, no output will be generated.\n",
    "\n",
    "\n",
    "rand(): if you don't specify any arguments, \n",
    "it generates a random float between zero and one."
   ]
  },
  {
   "cell_type": "code",
   "execution_count": 30,
   "id": "a1030a68",
   "metadata": {},
   "outputs": [
    {
     "name": "stdout",
     "output_type": "stream",
     "text": [
      "0.6964691855978616\n"
     ]
    }
   ],
   "source": [
    "# Set the seed\n",
    "np.random.seed(123)\n",
    "\n",
    "# Generate and print random float\n",
    "print(np.random.rand())"
   ]
  },
  {
   "cell_type": "code",
   "execution_count": 71,
   "id": "9017ccaf",
   "metadata": {},
   "outputs": [
    {
     "data": {
      "text/plain": [
       "array([10.        , 10.20408163, 10.40816327, 10.6122449 , 10.81632653,\n",
       "       11.02040816, 11.2244898 , 11.42857143, 11.63265306, 11.83673469,\n",
       "       12.04081633, 12.24489796, 12.44897959, 12.65306122, 12.85714286,\n",
       "       13.06122449, 13.26530612, 13.46938776, 13.67346939, 13.87755102,\n",
       "       14.08163265, 14.28571429, 14.48979592, 14.69387755, 14.89795918,\n",
       "       15.10204082, 15.30612245, 15.51020408, 15.71428571, 15.91836735,\n",
       "       16.12244898, 16.32653061, 16.53061224, 16.73469388, 16.93877551,\n",
       "       17.14285714, 17.34693878, 17.55102041, 17.75510204, 17.95918367,\n",
       "       18.16326531, 18.36734694, 18.57142857, 18.7755102 , 18.97959184,\n",
       "       19.18367347, 19.3877551 , 19.59183673, 19.79591837, 20.        ])"
      ]
     },
     "execution_count": 71,
     "metadata": {},
     "output_type": "execute_result"
    }
   ],
   "source": [
    "np.random.randn(20,3)\n",
    "np.linspace(10,20,50)"
   ]
  },
  {
   "cell_type": "code",
   "execution_count": null,
   "id": "acd3fa84",
   "metadata": {},
   "outputs": [],
   "source": []
  }
 ],
 "metadata": {
  "kernelspec": {
   "display_name": "Python 3 (ipykernel)",
   "language": "python",
   "name": "python3"
  },
  "language_info": {
   "codemirror_mode": {
    "name": "ipython",
    "version": 3
   },
   "file_extension": ".py",
   "mimetype": "text/x-python",
   "name": "python",
   "nbconvert_exporter": "python",
   "pygments_lexer": "ipython3",
   "version": "3.9.7"
  }
 },
 "nbformat": 4,
 "nbformat_minor": 5
}
